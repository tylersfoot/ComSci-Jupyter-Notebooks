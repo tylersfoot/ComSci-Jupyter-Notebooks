{
 "cells": [
  {
   "cell_type": "markdown",
   "metadata": {
    "id": "exceptional-passing"
   },
   "source": [
    "# CLIP + BigGAN"
   ]
  },
  {
   "cell_type": "markdown",
   "metadata": {
    "id": "third-format"
   },
   "source": [
    "## References\n",
    "\n",
    "* [big-sleep](https://github.com/lucidrains/big-sleep)\n"
   ]
  },
  {
   "cell_type": "code",
   "execution_count": 7,
   "metadata": {
    "colab": {
     "base_uri": "https://localhost:8080/"
    },
    "id": "meaning-criticism",
    "outputId": "a65a6f91-bfa9-4d10-c871-2956ffbfc81d"
   },
   "outputs": [
    {
     "ename": "ModuleNotFoundError",
     "evalue": "No module named 'big_sleep'",
     "output_type": "error",
     "traceback": [
      "\u001b[1;31m---------------------------------------------------------------------------\u001b[0m",
      "\u001b[1;31mModuleNotFoundError\u001b[0m                       Traceback (most recent call last)",
      "\u001b[1;32m<ipython-input-7-d548c107bfaf>\u001b[0m in \u001b[0;36m<module>\u001b[1;34m\u001b[0m\n\u001b[1;32m----> 1\u001b[1;33m \u001b[1;32mfrom\u001b[0m \u001b[0mbig_sleep\u001b[0m\u001b[1;33m.\u001b[0m\u001b[0mcli\u001b[0m \u001b[1;32mimport\u001b[0m \u001b[0mtrain\u001b[0m \u001b[1;32mas\u001b[0m \u001b[0mtti_big_sleep\u001b[0m\u001b[1;33m\u001b[0m\u001b[1;33m\u001b[0m\u001b[0m\n\u001b[0m",
      "\u001b[1;31mModuleNotFoundError\u001b[0m: No module named 'big_sleep'"
     ]
    }
   ],
   "source": [
    "from big_sleep.cli import train as tti_big_sleep"
   ]
  },
  {
   "cell_type": "code",
   "execution_count": null,
   "metadata": {
    "colab": {
     "base_uri": "https://localhost:8080/"
    },
    "id": "disciplinary-frontier",
    "outputId": "1961a9de-ad11-4974-c090-30ca9f2d1608"
   },
   "outputs": [],
   "source": [
    "tti_big_sleep(\"beagle on a bench\", iterations = 100, epochs=5, overwrite=True)"
   ]
  },
  {
   "cell_type": "code",
   "execution_count": null,
   "metadata": {
    "colab": {
     "base_uri": "https://localhost:8080/",
     "height": 529
    },
    "id": "O9BjyUTyRgRN",
    "outputId": "8b7f95be-790b-4e89-9ae7-11bc482e327c"
   },
   "outputs": [],
   "source": [
    "import glob\n",
    "from IPython.display import Image \n",
    "\n",
    "images = glob.glob(\"/content/*.png\")\n",
    "for image in images:\n",
    "   img = Image(filename=image)\n",
    "   display(img)"
   ]
  },
  {
   "cell_type": "code",
   "execution_count": null,
   "metadata": {
    "id": "b6j79LlYEd3U"
   },
   "outputs": [],
   "source": []
  }
 ],
 "metadata": {
  "accelerator": "GPU",
  "colab": {
   "name": "08_clip_biggan.ipynb",
   "provenance": [],
   "toc_visible": true
  },
  "kernelspec": {
   "display_name": "Python 3",
   "language": "python",
   "name": "python3"
  },
  "language_info": {
   "codemirror_mode": {
    "name": "ipython",
    "version": 3
   },
   "file_extension": ".py",
   "mimetype": "text/x-python",
   "name": "python",
   "nbconvert_exporter": "python",
   "pygments_lexer": "ipython3",
   "version": "3.7.3"
  }
 },
 "nbformat": 4,
 "nbformat_minor": 5
}
