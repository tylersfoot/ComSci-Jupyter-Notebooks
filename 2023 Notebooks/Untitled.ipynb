{
 "cells": [
  {
   "cell_type": "markdown",
   "metadata": {},
   "source": [
    "If you write the numbers from 1 to 20 on a piece of paper, you'll see three 2s: 2, 12, 20. How many 2s do you see if you write the numbers from 1 to 202**2?"
   ]
  },
  {
   "cell_type": "code",
   "execution_count": 14,
   "metadata": {},
   "outputs": [
    {
     "name": "stdout",
     "output_type": "stream",
     "text": [
      "26261\n"
     ]
    }
   ],
   "source": [
    "numbers = ''\n",
    "count = 0\n",
    "for i in range(1,40805):\n",
    "    numbers+=str(i)\n",
    "for n in numbers:\n",
    "    if n == '2':\n",
    "        count+=1\n",
    "print(count)\n",
    "\n",
    "# 8 lines"
   ]
  },
  {
   "cell_type": "code",
   "execution_count": 12,
   "metadata": {},
   "outputs": [
    {
     "name": "stdout",
     "output_type": "stream",
     "text": [
      "26261\n"
     ]
    }
   ],
   "source": [
    "count = 0\n",
    "for i in range(1,40805):\n",
    "    for n in str(i):\n",
    "        if n == '2':\n",
    "            count+=1\n",
    "print(count)\n",
    "\n",
    "# 6 lines"
   ]
  },
  {
   "cell_type": "code",
   "execution_count": 21,
   "metadata": {},
   "outputs": [
    {
     "name": "stdout",
     "output_type": "stream",
     "text": [
      "[1, 2, 3, 4, 5, 6, 7, 8, 9, 10]\n"
     ]
    }
   ],
   "source": [
    "count = 0\n",
    "numbers = [a for a in range(1,40805)]\n",
    "for i in numbers:\n",
    "    for n in i:\n",
    "        \n",
    "\n",
    "print(numbers[:10])\n",
    "\n",
    "# 6 lines"
   ]
  },
  {
   "cell_type": "markdown",
   "metadata": {},
   "source": [
    "Here is a sequence of numbers: 1, 11, 21, 1211, 111221, ...\n",
    "\n",
    "What's the next number?"
   ]
  },
  {
   "cell_type": "markdown",
   "metadata": {},
   "source": [
    "1 -> one 1\n",
    "\n",
    "11 -> two 1\n",
    "\n",
    "21 -> one 2 one 1\n",
    "\n",
    "1211 -> one 1 one 2 two 1\n",
    "\n",
    "111221 -> three 1 two 2 one 1\n",
    "\n",
    "312211 "
   ]
  }
 ],
 "metadata": {
  "kernelspec": {
   "display_name": "Python 3",
   "language": "python",
   "name": "python3"
  },
  "language_info": {
   "codemirror_mode": {
    "name": "ipython",
    "version": 3
   },
   "file_extension": ".py",
   "mimetype": "text/x-python",
   "name": "python",
   "nbconvert_exporter": "python",
   "pygments_lexer": "ipython3",
   "version": "3.7.3"
  }
 },
 "nbformat": 4,
 "nbformat_minor": 2
}
