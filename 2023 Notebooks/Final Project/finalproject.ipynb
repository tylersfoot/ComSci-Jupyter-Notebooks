{
 "cells": [
  {
   "cell_type": "markdown",
   "id": "5dd3009a",
   "metadata": {},
   "source": [
    "# Data Science Final Project"
   ]
  },
  {
   "cell_type": "code",
   "execution_count": 1,
   "id": "29a0f2cd",
   "metadata": {},
   "outputs": [
    {
     "name": "stderr",
     "output_type": "stream",
     "text": [
      "[nltk_data] Downloading package stopwords to\n",
      "[nltk_data]     C:\\Users\\tdepa\\AppData\\Roaming\\nltk_data...\n",
      "[nltk_data]   Package stopwords is already up-to-date!\n"
     ]
    }
   ],
   "source": [
    "# !pip install --user --upgrade nltk\n",
    "# !pip install --user --upgrade keras\n",
    "# !pip install --user --upgrade tensorflow\n",
    "# !pip install --user --upgrade textblob\n",
    "from matplotlib import pyplot\n",
    "from sklearn import datasets\n",
    "from sklearn.model_selection import train_test_split\n",
    "from sklearn.model_selection import cross_val_score\n",
    "from sklearn.model_selection import StratifiedKFold\n",
    "from sklearn.linear_model import LogisticRegression\n",
    "from sklearn.tree import DecisionTreeClassifier\n",
    "from sklearn.neighbors import KNeighborsClassifier\n",
    "from sklearn.discriminant_analysis import LinearDiscriminantAnalysis\n",
    "from sklearn.naive_bayes import GaussianNB\n",
    "from sklearn.svm import SVC\n",
    "\n",
    "from datetime import datetime\n",
    "import time\n",
    "import pandas as pd\n",
    "import seaborn as sns\n",
    "import numpy as np\n",
    "import matplotlib.pyplot as plt\n",
    "import gc\n",
    "from dateutil import parser\n",
    "import string\n",
    "import keras\n",
    "import nltk\n",
    "from nltk.corpus import stopwords\n",
    "nltk.download('stopwords')\n",
    "from sklearn.feature_extraction.text import CountVectorizer\n",
    "from sklearn.feature_extraction.text import TfidfTransformer\n",
    "from sklearn.feature_extraction.text import TfidfVectorizer\n",
    "from textblob import TextBlob\n",
    "from sklearn.linear_model import SGDClassifier\n",
    "from keras.models import Sequential\n",
    "from keras.layers import Dense\n",
    "from keras.layers import LSTM\n",
    "from keras.layers import SpatialDropout1D\n",
    "from keras.layers import Embedding\n",
    "from keras.preprocessing import sequence\n",
    "from keras.preprocessing.text import Tokenizer\n",
    "from keras.callbacks import EarlyStopping\n",
    "from keras.utils import pad_sequences\n",
    "\n",
    "\n",
    "plt.rcParams.update(plt.rcParamsDefault)\n",
    "%matplotlib inline\n",
    "pd.set_option('display.max_columns', None)"
   ]
  },
  {
   "cell_type": "code",
   "execution_count": 50,
   "id": "f3268976",
   "metadata": {},
   "outputs": [
    {
     "name": "stdout",
     "output_type": "stream",
     "text": [
      "Index(['text', 'label'], dtype='object')\n"
     ]
    },
    {
     "data": {
      "text/html": [
       "<div>\n",
       "<style scoped>\n",
       "    .dataframe tbody tr th:only-of-type {\n",
       "        vertical-align: middle;\n",
       "    }\n",
       "\n",
       "    .dataframe tbody tr th {\n",
       "        vertical-align: top;\n",
       "    }\n",
       "\n",
       "    .dataframe thead th {\n",
       "        text-align: right;\n",
       "    }\n",
       "</style>\n",
       "<table border=\"1\" class=\"dataframe\">\n",
       "  <thead>\n",
       "    <tr style=\"text-align: right;\">\n",
       "      <th></th>\n",
       "      <th>text</th>\n",
       "      <th>label</th>\n",
       "    </tr>\n",
       "  </thead>\n",
       "  <tbody>\n",
       "    <tr>\n",
       "      <th>0</th>\n",
       "      <td>I grew up (b. 1965) watching and loving the Th...</td>\n",
       "      <td>0</td>\n",
       "    </tr>\n",
       "    <tr>\n",
       "      <th>1</th>\n",
       "      <td>When I put this movie in my DVD player, and sa...</td>\n",
       "      <td>0</td>\n",
       "    </tr>\n",
       "    <tr>\n",
       "      <th>2</th>\n",
       "      <td>Why do people who do not know what a particula...</td>\n",
       "      <td>0</td>\n",
       "    </tr>\n",
       "    <tr>\n",
       "      <th>3</th>\n",
       "      <td>Even though I have great interest in Biblical ...</td>\n",
       "      <td>0</td>\n",
       "    </tr>\n",
       "    <tr>\n",
       "      <th>4</th>\n",
       "      <td>Im a die hard Dads Army fan and nothing will e...</td>\n",
       "      <td>1</td>\n",
       "    </tr>\n",
       "  </tbody>\n",
       "</table>\n",
       "</div>"
      ],
      "text/plain": [
       "                                                text  label\n",
       "0  I grew up (b. 1965) watching and loving the Th...      0\n",
       "1  When I put this movie in my DVD player, and sa...      0\n",
       "2  Why do people who do not know what a particula...      0\n",
       "3  Even though I have great interest in Biblical ...      0\n",
       "4  Im a die hard Dads Army fan and nothing will e...      1"
      ]
     },
     "execution_count": 50,
     "metadata": {},
     "output_type": "execute_result"
    }
   ],
   "source": [
    "dfreviews = pd.read_csv('Train.csv')\n",
    "print(dfreviews.columns)\n",
    "dfreviews.head()"
   ]
  },
  {
   "cell_type": "code",
   "execution_count": null,
   "id": "a4bfd2c0",
   "metadata": {},
   "outputs": [],
   "source": []
  },
  {
   "cell_type": "code",
   "execution_count": null,
   "id": "7e55095c",
   "metadata": {},
   "outputs": [],
   "source": []
  },
  {
   "cell_type": "markdown",
   "id": "61e15677",
   "metadata": {},
   "source": [
    "https://www.kaggle.com/datasets/kazanova/sentiment140\n",
    "\n",
    "https://www.analyticsvidhya.com/blog/2021/06/twitter-sentiment-analysis-a-nlp-use-case-for-beginners/\n",
    "\n",
    "https://www.kaggle.com/datasets/columbine/imdb-dataset-sentiment-analysis-in-csv-format"
   ]
  },
  {
   "cell_type": "code",
   "execution_count": 2,
   "id": "97df18a0",
   "metadata": {},
   "outputs": [
    {
     "name": "stdout",
     "output_type": "stream",
     "text": [
      "Loaded file.\n",
      "Fixed sentiment values.\n"
     ]
    },
    {
     "data": {
      "text/plain": [
       "sentiment      int32\n",
       "id           float64\n",
       "date          object\n",
       "query         object\n",
       "user          object\n",
       "tweet         object\n",
       "dtype: object"
      ]
     },
     "execution_count": 2,
     "metadata": {},
     "output_type": "execute_result"
    }
   ],
   "source": [
    "df = pd.read_csv('twitterdata.csv', encoding = \"ISO-8859-1\")\n",
    "print('Loaded file.')\n",
    "df = pd.DataFrame(np.vstack([df.columns, df])) # Moves column names into row 1\n",
    "df.columns = ['sentiment', 'id', 'date', 'query', 'user', 'tweet'] # Renames columns\n",
    "df.replace({'sentiment': {4: 1}}, inplace=True) # Replaces all '4's with '1's in column 'sentiment'\n",
    "df.replace({'sentiment': {0: -1}}, inplace=True) # Replaces all '0's with '-1's in column 'sentiment'\n",
    "data_types_dict = {\n",
    "    'sentiment': int,\n",
    "    'id': float\n",
    "}\n",
    "print('Fixed sentiment values.')\n",
    "\n",
    "df = df.astype(data_types_dict)\n",
    "df.dtypes"
   ]
  },
  {
   "cell_type": "code",
   "execution_count": 3,
   "id": "06b1cf51",
   "metadata": {},
   "outputs": [
    {
     "data": {
      "text/html": [
       "<div>\n",
       "<style scoped>\n",
       "    .dataframe tbody tr th:only-of-type {\n",
       "        vertical-align: middle;\n",
       "    }\n",
       "\n",
       "    .dataframe tbody tr th {\n",
       "        vertical-align: top;\n",
       "    }\n",
       "\n",
       "    .dataframe thead th {\n",
       "        text-align: right;\n",
       "    }\n",
       "</style>\n",
       "<table border=\"1\" class=\"dataframe\">\n",
       "  <thead>\n",
       "    <tr style=\"text-align: right;\">\n",
       "      <th></th>\n",
       "      <th>sentiment</th>\n",
       "      <th>tweet</th>\n",
       "    </tr>\n",
       "  </thead>\n",
       "  <tbody>\n",
       "    <tr>\n",
       "      <th>0</th>\n",
       "      <td>1</td>\n",
       "      <td>Just got to our LA campus...love the energy in...</td>\n",
       "    </tr>\n",
       "    <tr>\n",
       "      <th>1</th>\n",
       "      <td>1</td>\n",
       "      <td>Tamed that weave into a ponytail. Oh yes 13day...</td>\n",
       "    </tr>\n",
       "    <tr>\n",
       "      <th>2</th>\n",
       "      <td>1</td>\n",
       "      <td>@hartluck LOL UR too cute. Thats 4 sure @pink ...</td>\n",
       "    </tr>\n",
       "    <tr>\n",
       "      <th>3</th>\n",
       "      <td>1</td>\n",
       "      <td>tOmOrrOw new WeeK !!! ^^  26 Daays fOr cOncert...</td>\n",
       "    </tr>\n",
       "    <tr>\n",
       "      <th>4</th>\n",
       "      <td>1</td>\n",
       "      <td>@SeandBlogonaut You just saved your Twitter so...</td>\n",
       "    </tr>\n",
       "  </tbody>\n",
       "</table>\n",
       "</div>"
      ],
      "text/plain": [
       "   sentiment                                              tweet\n",
       "0          1  Just got to our LA campus...love the energy in...\n",
       "1          1  Tamed that weave into a ponytail. Oh yes 13day...\n",
       "2          1  @hartluck LOL UR too cute. Thats 4 sure @pink ...\n",
       "3          1  tOmOrrOw new WeeK !!! ^^  26 Daays fOr cOncert...\n",
       "4          1  @SeandBlogonaut You just saved your Twitter so..."
      ]
     },
     "execution_count": 3,
     "metadata": {},
     "output_type": "execute_result"
    }
   ],
   "source": [
    "df = df.sample(frac=1).reset_index(drop=True) # shuffles rows so its not all 1 and then -1\n",
    "df = df[['sentiment', 'tweet']]\n",
    "df.head()"
   ]
  },
  {
   "cell_type": "code",
   "execution_count": 4,
   "id": "397db2d0",
   "metadata": {},
   "outputs": [
    {
     "name": "stdout",
     "output_type": "stream",
     "text": [
      "1                                                                                                                                800000\n",
      "-1                                                                                                                               799999\n",
      "isPlayer Has Died! Sorry                                                                                                            210\n",
      "good morning                                                                                                                        118\n",
      "headache                                                                                                                            115\n",
      "                                                                                                                                  ...  \n",
      "didnt go in college today, heeaaddaachhee.  i had 2 weird dreams last night                                                           1\n",
      "@tantonik Sonic!!!!!!!!!!!!!!!!  You're the second twitter friend to mention Sonic!  I forgot to get my free root beer float          1\n",
      "feels better now that she ate. Doesnt want to be here until 9:30.                                                                     1\n",
      "Grad Class pot Luck tonigghhthtt  &lt;3                                                                                               1\n",
      "i just added a new theme on the site... but then the header image doesn't want to show up                                             1\n",
      "Length: 1581469, dtype: int64\n"
     ]
    }
   ],
   "source": [
    "s = df.stack().value_counts()\n",
    "print(s)"
   ]
  },
  {
   "cell_type": "code",
   "execution_count": 5,
   "id": "80328059",
   "metadata": {},
   "outputs": [
    {
     "data": {
      "text/plain": [
       "['Just got to our LA campus...love the energy in this place',\n",
       " \"Tamed that weave into a ponytail. Oh yes 13dayss i'm so happy\",\n",
       " '@hartluck LOL UR too cute. Thats 4 sure @pink is the hottest girl ever  U Lucky Lucky man lol, well shes pretty lucky 2 have U as well',\n",
       " 'tOmOrrOw new WeeK !!! ^^  26 Daays fOr cOncert  teQ',\n",
       " '@SeandBlogonaut You just saved your Twitter soul.',\n",
       " \"David Eddings is dead. I hope he died believing he'd gotten that one story finally told.\",\n",
       " '@mileycyrus i voted for you mileyyy',\n",
       " \"I'm going to bed! I'm beat out after today, had a crazy water balloon fight! Best last day of school ever!  Going to miss everyone!\",\n",
       " 'BAYLEIGH AND I HAZ PIZZA AND BREADSTICKS.',\n",
       " 'http://twitpic.com/7yb5u - came across this picture this morning, how i miss the production',\n",
       " \"I know.  i'm really sad. I miss him so much. I hope he comes down again soon\",\n",
       " '@ElizaPatricia time for my bed too! 7am here and just finished a 12hr shift',\n",
       " '@ibosmiley yep. got out of the market last fall. *whew*',\n",
       " 'Ahhhhh Andrea Bocelli - Con te Partiro...reminds me of my friend who died  â\\x99« http://blip.fm/~7s5aj',\n",
       " '@1sweetwhirl you too honey. Thanks although my day is like any other day except for the flowers',\n",
       " '@davinauea Sorry to remind you',\n",
       " 'â\\x99« All I wanna do now is share my constellation, they BRIGHTEN my world everyday! *HUGS*   â\\x99« http://blip.fm/~7oxu2',\n",
       " \"@TJThyne : Good luck 'n Have fun!\",\n",
       " 'Time to start studying',\n",
       " '@_UniqueGirl_ i have a sty and it hurts']"
      ]
     },
     "execution_count": 5,
     "metadata": {},
     "output_type": "execute_result"
    }
   ],
   "source": [
    "# for i in range(10):\n",
    "#     print(df['tweet'][i])\n",
    "content = df['tweet'][:5000].values.tolist()\n",
    "labels = df['sentiment'][:5000].values.tolist()\n",
    "content = [x.strip() for x in content] # Deletes white space before and after\n",
    "content[:20]"
   ]
  },
  {
   "cell_type": "code",
   "execution_count": 6,
   "id": "4308341a",
   "metadata": {},
   "outputs": [
    {
     "data": {
      "text/plain": [
       "array([ 1,  1,  1,  1,  1, -1,  1, -1,  1, -1, -1, -1,  1, -1, -1, -1,  1,\n",
       "        1, -1, -1], dtype=int8)"
      ]
     },
     "execution_count": 6,
     "metadata": {},
     "output_type": "execute_result"
    }
   ],
   "source": [
    "y = np.array(labels, dtype='int8')\n",
    "y[:20]"
   ]
  },
  {
   "cell_type": "code",
   "execution_count": 54,
   "id": "564b7937",
   "metadata": {
    "scrolled": true
   },
   "outputs": [
    {
     "name": "stdout",
     "output_type": "stream",
     "text": [
      "['I grew up (b. 1965) watching and loving the Thunderbirds. All my mates at school watched. We played \"Thunderbirds\" before school, during lunch and after school. We all wanted to be Virgil or Scott. No one wanted to be Alan. Counting down from 5 became an art form. I took my children to see the movie hoping they would get a glimpse of what I loved as a child. How bitterly disappointing. The only high point was the snappy theme tune. Not that it could compare with the original score of the Thunderbirds. Thankfully early Saturday mornings one television channel still plays reruns of the series Gerry Anderson and his wife created. Jonatha Frakes should hand in his directors chair, his version was completely hopeless. A waste of film. Utter rubbish. A CGI remake may be acceptable but replacing marionettes with Homo sapiens subsp. sapiens was a huge error of judgment.', \"When I put this movie in my DVD player, and sat down with a coke and some chips, I had some expectations. I was hoping that this movie would contain some of the strong-points of the first movie: Awsome animation, good flowing story, excellent voice cast, funny comedy and a kick-ass soundtrack. But, to my disappointment, not any of this is to be found in Atlantis: Milo's Return. Had I read some reviews first, I might not have been so let down. The following paragraph will be directed to those who have seen the first movie, and who enjoyed it primarily for the points mentioned.<br /><br />When the first scene appears, your in for a shock if you just picked Atlantis: Milo's Return from the display-case at your local videoshop (or whatever), and had the expectations I had. The music feels as a bad imitation of the first movie, and the voice cast has been replaced by a not so fitting one. (With the exception of a few characters, like the voice of Sweet). The actual drawings isnt that bad, but the animation in particular is a sad sight. The storyline is also pretty weak, as its more like three episodes of Schooby-Doo than the single adventurous story we got the last time. But dont misunderstand, it's not very good Schooby-Doo episodes. I didnt laugh a single time, although I might have sniggered once or twice.<br /><br />To the audience who haven't seen the first movie, or don't especially care for a similar sequel, here is a fast review of this movie as a stand-alone product: If you liked schooby-doo, you might like this movie. If you didn't, you could still enjoy this movie if you have nothing else to do. And I suspect it might be a good kids movie, but I wouldn't know. It might have been better if Milo's Return had been a three-episode series on a cartoon channel, or on breakfast TV.\", 'Why do people who do not know what a particular time in the past was like feel the need to try to define that time for others? Replace Woodstock with the Civil War and the Apollo moon-landing with the Titanic sinking and you\\'ve got as realistic a flick as this formulaic soap opera populated entirely by low-life trash. Is this what kids who were too young to be allowed to go to Woodstock and who failed grade school composition do? \"I\\'ll show those old meanies, I\\'ll put out my own movie and prove that you don\\'t have to know nuttin about your topic to still make money!\" Yeah, we already know that. The one thing watching this film did for me was to give me a little insight into underclass thinking. The next time I see a slut in a bar who looks like Diane Lane, I\\'m running the other way. It\\'s child abuse to let parents that worthless raise kids. It\\'s audience abuse to simply stick Woodstock and the moonlanding into a flick as if that ipso facto means the film portrays 1969.', 'Even though I have great interest in Biblical movies, I was bored to death every minute of the movie. Everything is bad. The movie is too long, the acting is most of the time a Joke and the script is horrible. I did not get the point in mixing the story about Abraham and Noah together. So if you value your time and sanity stay away from this horror.', 'Im a die hard Dads Army fan and nothing will ever change that. I got all the tapes, DVD\\'s and audiobooks and every time i watch/listen to them its brand new. <br /><br />The film. The film is a re run of certain episodes, Man and the hour, Enemy within the gates, Battle School and numerous others with a different edge. Introduction of a new General instead of Captain Square was a brilliant move - especially when he wouldn\\'t cash the cheque (something that is rarely done now).<br /><br />It follows through the early years of getting equipment and uniforms, starting up and training. All in all, its a great film for a boring Sunday afternoon. <br /><br />Two draw backs. One is the Germans bogus dodgy accents (come one, Germans cant pronounced the letter \"W\" like us) and Two The casting of Liz Frazer instead of the familiar Janet Davis. I like Liz in other films like the carry ons but she doesn\\'t carry it correctly in this and Janet Davis would have been the better choice.', \"A terrible movie as everyone has said. What made me laugh was the cameo appearance by Scott McNealy, giving an award to one of the murdered programmers in front of a wall of SUN logos. McNealy is the CEO of SUN Microsystem, a company that practically defines itself by its hatred of Microsoft. They have been instrumental in filing antitrust complaints against Microsoft. So, were they silly enough to think this bad movie would add fuel to that fire?<br /><br />There's no public record I see of SUN's involvement, but clearly the makers of this movie know Scott McNealy. An interesting mystery.\", 'Finally watched this shocking movie last night, and what a disturbing mindf**ker it is, and unbelievably bloody and some unforgettable scenes, and a total assault on the senses. Looks like a movie from the minds of Lynch (specifically ERASERHEAD), Buttgereit, and even a little of \"Begotten\". What this guy does to his pregnant sister is beyond belief, but then again, did it really happen or is it his brain\\'s left and right sides doing battle. That\\'s the main theme of this piece of art, to draw a fine line between fantasy and reality, and what would happen if the right side of the brain that dreams and fantasizes overtakes the reasoning and logical left side. And the music in this movie is unbelievable, a kind of electronic score that is absolutely perfect. Even though this movie is totally shocking and pretty disgusting in some of the most extreme scenes (including hard core sex) you will ever see in any movie, I viewed it as a work of art, and loved it. And that music still amazes me, I have to try and find the soundtrack if is available. Watching \"Subconscious Cruelty\" is a real event, and not something the viewer will easily forget. And a note to gorehounds, this is a must-have.<br /><br />Warning... Be careful buying this movie, because some prints have fogging on the graphic sex scenes and extreme gore, especially the copies from the Japanese release.', 'I caught this film on AZN on cable. It sounded like it would be a good film, a Japanese \"Green Card\". I can\\'t say I\\'ve ever disliked an Asian film, quite the contrary. Some of the most incredible horror films of all time are Japanese and Korean, and I am a HUGE fan of John Woo\\'s Hong Kong films. I an not adverse to a light hearted films, like Tampopo or Chung King Express (two of my favourites), so I thought I would like this. Well, I would rather slit my wrists and drink my own blood than watch this laborious, badly acted film ever again.<br /><br />I think the director Steven Okazaki must have spiked the water with Quaalude, because no one in this film had a personality. And when any of the characters DID try to act, as opposed to mumbling a line or two, their performance came across as forced and incredibly fake. I honestly did not think that anyone had ever acted before...the ONLY person who sounded genuine was Brenda Aoki.. I find it amazing that this is promoted as a comedy, because I didn\\'t laugh once. Even MORE surprising is that CBS morning news called this \"a refreshing breath of comedy\". It was neither refreshing, nor a breath of comedy. And the ending was very predictable, the previous reviewer must be an idiot to think such things.<br /><br />AVOID this film unless you want to see a boring predictable plot line and wooden acting. I actually think that \"Spike of Bensonhurst\" is a better acted film than this...and I walked out half way through that film!', \"It may be the remake of 1987 Autumn's Tale after eleven years, as the director Mabel Cheung claimed. Mabel employs rock music as the medium in this movie to express her personal attitude to life, in which love, desire and the consequential frustration play significantly crucial roles. Rock music may not be the best vehicle to convey the profound sentiment, and yet it is not too inappropriate to utilize it as the life of underground rock musicians is bitterly more intense than an ordinary one. The director focuses on the depiction of subtle affection and ultimate vanity of life rather than mere rock music. The love between father and son, lovers, and friends is delicately and touchingly delivered through the fine performance. Mabel does not attempt to beautify rock musicians as artists at all, instead, she tries to reproduce a true life on screen, making huge efforts of years' working on this project and gathering information in Beijing underground pubs.<br /><br />Daniel has given probably the best performance in all his movies made so far. His innate dispiritedness and reticence fit the blue mood of the film perfectly.\", \"My Super Ex Girlfriend turned out to be a pleasant surprise for me, I was really expecting a horrible movie that would probably be stupid and predictable, and you know what? It was! But this movie did have so many wonderful laughs and a fun plot that anyone could get a kick out of. I know that this was a very cheesy movie, but Uma and Anna were just so cool and Steve was such a great addition along with a great cast that looked like they had so much fun and that's what made the movie really work.<br /><br />Jenny Johnson(scary, that's my best friend's actual name) is not your typical average librarian looking woman, when Matt, your average male, asks her out, he's in for more than he expected, he's asked G-Girl out on a date, the super hero of the world! But when he finds out what a jealous and crazy girl she really is and decides that it may be a good idea that they spend some time apart, but Jenny won't have it since he's fallen for another girl, Hannah, and she will make his life a living hell, I mean, let's face it, he couldn't have chosen a better girl to break up with.<br /><br />The effect were corny, but you seriously move past them quickly, the story and cast made the story really work and I loved Uma in this movie, it was such a step up from Prime. My Super Ex Girlfriend is a fun movie that you shouldn't really take seriously, it's just a cute romantic comedy that I think if I could get a laugh out of it, anyone could.<br /><br />7/10\", \"I can't believe people are looking for a plot in this film. This is Laural and Hardy. Lighten up already. These two were a riot. Their comic genius is as funny today as it was 70 years ago. Not a filthy word out of either mouth and they were able to keep audiences in stitches. Their comedy wasn't sophisticated by any stretch. If a whoopee cushion can't make you grin, there's no reason to watch any of the stuff these guys did. It was a simpler time, and people laughed at stuff that was funny without a plot. I guess it takes a simple mind to enjoy this stuff, so I qualify. Two man comedy teams don't compute, We're just too sophisticated... Aren't we fortunate?\", \"If you haven't seen the gong show TV series then you won't like this movie much at all, not that knowing the series makes this a great movie. <br /><br />I give it a 5 out of 10 because a few things make it kind of amusing that help make up for its obvious problems.<br /><br />1) It's a funny snapshot of the era it was made in, the late 1970's and early 1980's. 2) You get a lot of funny cameos of people you've seen on the show. 3) It's interesting to see Chuck (the host) when he isn't doing his on air TV personality. 4) You get to see a lot of bizarre people doing all sorts of weirdness just like you see on the TV show.<br /><br />I won't list all the bad things because there's a lot of them, but here's a few of the most prominent.<br /><br />1) The Gong Show Movie has a lot of the actual TV show clips which gets tired at movie length. 2) The movie's story line outside of the clip segments is very weak and basically is made up of just one plot point. 3) Chuck is actually halfway decent as an actor, but most of the rest of the actors are doing typical way over the top 1970's flatness.<br /><br />It's a good movie to watch when you don't have an hour and a half you want to watch all at once. Watch 20 minutes at a time and it's not so bad. But even then it's not so good either. ;)\", 'I have always been a huge fan of \"Homicide: Life On The Street\" so when I heard there was a reunion movie coming up, I couldn\\'t wait.<br /><br />Let me just say, I was not disappointed at all. It was one of the most powerful 2 hours of television I\\'ve ever seen. It was great to see everyone back again, but the biggest pleasure of all was to have Andre Braugher back, because the relationship between Pembleton and Bayliss was always the strongest part of an all-together great show.', 'Greg Davis and Bryan Daly take some crazed statements by a terrorists, add some commentary by a bunch of uber-right reactionaries, ascribe the most extreme positions of the most fundamentalist Moslems on the planet to everyone who calls themselves a Moslem, and presents this as the theology of Islam. Maybe their next film will involve interviewing Fred Phelps and the congregation of the Westboro Baptist Church, adding commentary by some militant atheist \"scholars, and call their film \"What the World Needs to Know About Christianity.\" Ultimately, this film suffers from both poor production values and lack of attention to the most basic standards of journalism. Don\\'t waste your time and money; just turn on your AM radio and listen to Rush Limbaugh for a couple of days for free and you\\'ll get the same message with the same level of intellectual analysis.', 'A half-hearted attempt to bring Elvis Presley into the modern day, but despite a sexy little shower scene and a pseudo-Playboy magazine subplot, Presley is surrounded by the same old coy, winking clichés. A woman picks E.P. up on the beach and then proceeds to take over his life--and he doesn\\'t seem to care! Dick Sargent is grueling in another sidebar, but Don Porter and Rudy Vallee (!) try hard as Elvis\\' two bosses (he\\'s moonlighting, you see). Some of the songs are quite good, especially \"Almost in Love\", but if you want to see a looser, hipper, updated Elvis sex-comedy--look elsewhere. When Elvis and his Fatal Attraction get into bed together, there\\'s actually a wooden board in between them! Get real. ** from ****', 'If you want a fun romp with loads of subtle humor, then you will enjoy this flick.<br /><br />I don\\'t understand why anyone wouldn\\'t enjoy this one. Take it for what it is: a vehicle for Dennis Hopper to mess with your head and make you laugh. It ain\\'t Shakespeare, but it is well done. Ericka Eleniak is absolutely beautiful and holds her own in this one - Better than any episode of Baywatch - and shows a knack for subtle humor. Too bad she hasn\\'t had many opportunities to expand on that.<br /><br />Tom Berenger fits his role of \"real Navy\" perfectly and William McNamara does a solid job as a hustler.<br /><br />Throw in a walk-on by Hopper in the middle of the chase for \"the Cherry on this Sundae\" and you\\'ve got a movie that kept my attention and kept me laughing. I bought this one as soon as it was available.<br /><br />Brain-candy.', 'I really wanted to be able to give this film a 10. I\\'ve long thought it was my favorite of the four modern live-action Batman films to date (and maybe it still will be--I have yet to watch the Schumacher films again). I\\'m also starting to become concerned about whether I\\'m somehow subconsciously being contrarian. You see, I always liked the Schumacher films. As far as I can remember, they were either 9s or 10s to me. But the conventional wisdom is that the two Tim Burton directed films are far superior. I had serious problems with the first Burton Batman this time around--I ended up giving it a 7--and apologize as I might, I just couldn\\'t help feel that Batman Returns just has too many small direction, plot and script problems scattered throughout to justify a 10.<br /><br />But Burton _almost_ trumps the problems with sheer force of style, and even though there are a lot of small flaws, Batman Returns is still a great film, especially if you\\'re a Burton fan, as Batman Returns has just as much in common with The Nightmare Before Christmas (1993) and Edward Scissorhands (1990) as it does with anything else in the Batman universe.<br /><br />The film begins strongly, with the Cobblepots having a baby. We see their dismay--people walk out of the birthing room with horror on their faces, ready to vomit. Later, they have the baby in a small cage. Finally they take it out for an evening stroll and dump it in the Gotham City River. The baby ends up becoming Batman villain The Penguin (Danny DeVito).<br /><br />Meanwhile, Max Shreck (Christopher Walken) is the film\\'s \"evil capitalist\", comparable to Grissom (Jack Palance) in Batman. He is planning on duping Gotham City in various ways, and we see him emotionally abusing his secretary, the timid Selina Kyle (Michelle Pfeiffer). When Kyle discovers one of the nefarious plots, Grissom tries to get rid of her, but she is rescued by cats, becoming Catwoman.<br /><br />While all of this is going on, The Penguin, who has long been only rumored to exist and who is thought to be dangerous, begins a scheme to be presented to the public as a good guy, despite having less than benevolent, ulterior motives.<br /><br />Before re-watching Burton\\'s Batman films this time, I didn\\'t remember just how little the films are about Batman (Michael Keaton). It\\'s almost as if Burton didn\\'t feel the character was interesting enough to focus on. The focus here is much more on the villains, especially The Penguin. Batman doesn\\'t appear very often, especially in the beginning of the film, and surprisingly often, we\\'re watching him watching The Penguin.<br /><br />Although some viewers necessarily count the above as a flaw, I can\\'t say that I do, even if I\\'d like to know more about Batman and follow his story more. The villains\\' stories are interesting, too, and as an \"origin story\" for two major Batman villains, Batman Returns is already more than complex in terms of plot.<br /><br />However, there are some character problems that I do count as a flaw. The Penguin has a cadre of circus performers who do his bidding, but even though they\\'re frequently on screen, we never get to learn anything about them. Burton has a core of characters as intriguing as those in Tod Browning\\'s Freaks (1932) available, with actors as interesting as Vincent Schiavelli, but he just doesn\\'t have the space to use them.<br /><br />For that matter, he hardly has space to explore Catwoman. The film plays as if Catwoman may have been as developed and featured in as many scenes as The Penguin, but that cut of the film would have been 4 hours long. So the bulk of the Catwoman scenes had to be excised. Of course, all of this barely leaves any room for Batman. Burton has Batman turn very dark in the public\\'s eye in this film, and unusually, he never bothers to resolve this. As far as we know, at the end, Gothamites still think that Batman is a murdering lunatic. That\\'s an interesting development, but unfortunately it ended up being dropped between this film and the next.<br /><br />As for the script, although there are minor problems including some non-sequiturs and bizarre decisions (in terms of logic) made by characters, it\\'s clear that Burton and writers Sam Hamm and Daniel Waters are not exactly trying to tell a traditional story. A lot of the dialogue is pun-oriented, but often this is fairly subtle and/or complex (of course, sometimes it is very blatant or transparent, too). It helps to look at Batman Returns as a more \"poetic\" film, as I believe was the intention. This also carries over into more general plot and directorial decisions--plenty of odd character actions, including from minor characters, are done in service of a general mood or style, and that style works very well.<br /><br />\"Dark\" is the easiest way to sum up Batman Returns in a word, and whether that\\'s a positive or negative depends on your disposition. Anyone who knows me knows that I love dark. So for me, Burton\\'s style largely transcends the flaws in the plot and the script. In many ways, Batman Returns is like an insane, campy horror film, with beautifully eerie production design. Like Batman, Burton is still making many references to other films, but instead of Vertigo (1958) and Star Wars (1977) (well, there\\'s still a slight Star Wars reference), he invokes films like Nosferatu (1922) (including that \"Max Schreck\" was the name of the actor who played the Dracula-like character there), Motel Hell (1980), the aforementioned Freaks, Willy Wonka and the Chocolate Factory (1971) (which has a surreal, dark edge to it) and zombie films--made most explicit in The Penguin\\'s final scene.<br /><br />In terms of visuals and general atmosphere--and that includes the general \"feel\" of the story, the characters and so on--this couldn\\'t be a stronger 10.', 'The main problem with \"Power\" is that it features way too may pointless characters and subplots that add absolutely nothing to the movie whatsoever. It gets boring after awhile, sitting around waiting through scenes that don\\'t connect to find something that drives the movie forward. You could probably pass it all off as character development, but all of them are either recycled from earlier scenes in the movie, or are just simply to flat and uninteresting. Lumet never gives enough time to let any of the supporting cast blossom. He should have cut a few of the characters (hackman, the wife) and concentrated harder on others (Billings). It could have been a great, hard political thriller instead of a jumbled mess that loses any message in a sea of bad writing and acting, a fact that amazed me considering the cast. Even Gene Hackman performance wasn\\'t up to par. Denzel Washington is the only real actor of note here. Gere and the others have all done much better performances elsewhere. <br /><br />Sidney Lumet needs to go back to the fierce one man shows he did in the seventies (i.e, Serpico) and stop trying to recapture his success with \"12 Angry Men\" and \"Fail Safe\". It hasn\\'t worked yet Sidney, and it most likely never will. leave the ensemble dramas to Altman. <br /><br />3/10<br /><br />* / * * * *', 'The folks at Disney have a lot to explain. First and foremost, why anyone thought this lesser-sitcom material would ever make even a half-decent motion picture. In the kooky 60\\'s teleplay, the unique idea of Martians among us had not yet been given the sophisticated X-Files treatment. Quaint visions of little green men have long since been dispelled by the likes of E.T., CLOSE ENCOUNTERS and ALIENS 1-3.<br /><br />Any charm the property had was mainly due to the endearing relationship created between the late Bill Bixby as Tim and Ray Walston as the unworldly visitor. The conceit that Martians have antenna seemed dopey back then. Now it seems positively idiotic. Yet, Christopher Lloyd\\'s Uncle Martin sports the metallic appendages. In an early shot, the antenna on a sign for the TV station Tim works at is supposed to make us think \"martian\"! When\\'s the last time you saw a TV with rabbit ears, eh?<br /><br />Disney doesn\\'t trust quaint or relationships and crams this flick with youth-wooing special effects that include a talking space suit named Zoot! Yes, you read that correctly - Uncle Martin\\'s silver space suit speaks. He is supposed to be a real hilarious cut-up! Figure again. I got stretch socks that are funnier than Zoot. Whenever the action lags (and it lags constantly), computer graphics are put into play to liven things up. Tim is here played by the amiable Jeff Daniels, who can\\'t (or won\\'t) do anything to save this floudering mess. Zesty Christine Ebersole brings some comic zeal to her neighbor lady role. Even Ray Walston himself is dragged painfully into the procedings - all to no avail. This alien visitor is dead on arrival.<br /><br />Constant talk of sitcoms turning to screen makes me only hope that the I DREAM OF JEANNIE movie won\\'t feature a talking harem outfit. I pray that Samantha\\'s cat in the movie BEWITCHED doesn\\'t have lines. I live in fear that I LOVE LUCY - THE MOVIE will proudly feature a CG Conga Drum named Bongo.<br /><br />Paging Michael Eisner! Mickey Mouse - take me to your leader.', \"A friend told me of John Fante last summer after we got into a conversation about Charles Bukowski. I did not know that Fante was a favorite writer of Bukowski's - an author with similar edge and humor except from one generation earlier. 'Ask the Dust' was the first Fante book I read, and it remains one of my favorite novels. The novel was a brilliant piece of writing about a sad, frightened young writer posing to himself and the outside world as an overconfident, masterfully talented author who had no idea how to write about the real world experiences he had none of. In the novel the protagonist is a virgin, with no idea how to win the graces of the women he desperately wants to write about in magazines. The story of his bizarre relationship with Camilla, how he settles for his first sexual experience with a 'wounded' admirer, and how he eventually is left with nothing but the story of his failed attempts at love is biting and real, with no touching Hollywood ending. The film adaptation stays true to the book for a while, but meanders into the cinematic trap of love persevering through racism, sickness and death. The heart of this story lies in the fact that Bandini is a jerk and Camilla is f-ing crazy, and their love never was and never would be the real thing, no matter how much either of them wanted to find it in each other. This movie tore out the real meaning of the story out and replaced it with schlock. I can't believe the man who wrote Chinatown could read this book and make a movie about it that got it so wrong.\"]\n",
      "[0 0 0 0 1 0 1 0 1 1 1 0 1 0 0 1 1 0 0 0]\n"
     ]
    }
   ],
   "source": [
    "# REWORKED WITH REVIEWS DATASET\n",
    "df = dfreviews\n",
    "content = df['text'].values.tolist()\n",
    "labels = df['label'].values.tolist()\n",
    "content = [x.strip() for x in content] # Deletes white space before and after\n",
    "print(content[:20])\n",
    "y = np.array(labels, dtype='int8')\n",
    "print(y[:20])"
   ]
  },
  {
   "cell_type": "markdown",
   "id": "3ae2b56f",
   "metadata": {},
   "source": [
    "## stop words #1"
   ]
  },
  {
   "cell_type": "code",
   "execution_count": 55,
   "id": "4d8c0a82",
   "metadata": {},
   "outputs": [
    {
     "data": {
      "text/plain": [
       "['grew b watching loving thunderbirds mates school watched played thunderbirds school lunch school wanted virgil scott one wanted alan counting became art form took children see movie hoping would get glimpse loved child bitterly disappointing high point snappy theme tune could compare original score thunderbirds thankfully early saturday mornings one television channel still plays reruns series gerry anderson wife created jonatha frakes hand directors chair version completely hopeless waste film utter rubbish cgi remake may acceptable replacing marionettes homo sapiens subsp sapiens huge error judgment',\n",
       " 'put movie dvd player sat coke chips expectations hoping movie would contain strong points first movie awsome animation good flowing story excellent voice cast funny comedy kick ass soundtrack disappointment found atlantis milo return read reviews first might let following paragraph directed seen first movie enjoyed primarily points mentioned br br first scene appears shock picked atlantis milo return display case local videoshop whatever expectations music feels bad imitation first movie voice cast replaced fitting one exception characters like voice sweet actual drawings isnt bad animation particular sad sight storyline also pretty weak like three episodes schooby doo single adventurous story got last time dont misunderstand good schooby doo episodes didnt laugh single time although might sniggered twice br br audience seen first movie especially care similar sequel fast review movie stand alone product liked schooby doo might like movie could still enjoy movie nothing else suspect might good kids movie know might better milo return three episode series cartoon channel breakfast tv',\n",
       " 'people know particular time past like feel need try define time others replace woodstock civil war apollo moon landing titanic sinking got realistic flick formulaic soap opera populated entirely low life trash kids young allowed go woodstock failed grade school composition show old meanies put movie prove know nuttin topic still make money yeah already know one thing watching film give little insight underclass thinking next time see slut bar looks like diane lane running way child abuse let parents worthless raise kids audience abuse simply stick woodstock moonlanding flick ipso facto means film portrays',\n",
       " 'even though great interest biblical movies bored death every minute movie everything bad movie long acting time joke script horrible get point mixing story abraham noah together value time sanity stay away horror',\n",
       " 'im die hard dads army fan nothing ever change got tapes dvd audiobooks every time watch listen brand new br br film film run certain episodes man hour enemy within gates battle school numerous others different edge introduction new general instead captain square brilliant move especially cash cheque something rarely done br br follows early years getting equipment uniforms starting training great film boring sunday afternoon br br two draw backs one germans bogus dodgy accents come one germans cant pronounced letter w like us two casting liz frazer instead familiar janet davis like liz films like carry ons carry correctly janet davis would better choice',\n",
       " 'terrible movie everyone said made laugh cameo appearance scott mcnealy giving award one murdered programmers front wall sun logos mcnealy ceo sun microsystem company practically defines hatred microsoft instrumental filing antitrust complaints microsoft silly enough think bad movie would add fuel fire br br public record see sun involvement clearly makers movie know scott mcnealy interesting mystery',\n",
       " 'finally watched shocking movie last night disturbing mindf ker unbelievably bloody unforgettable scenes total assault senses looks like movie minds lynch specifically eraserhead buttgereit even little begotten guy pregnant sister beyond belief really happen brain left right sides battle main theme piece art draw fine line fantasy reality would happen right side brain dreams fantasizes overtakes reasoning logical left side music movie unbelievable kind electronic score absolutely perfect even though movie totally shocking pretty disgusting extreme scenes including hard core sex ever see movie viewed work art loved music still amazes try find soundtrack available watching subconscious cruelty real event something viewer easily forget note gorehounds must br br warning careful buying movie prints fogging graphic sex scenes extreme gore especially copies japanese release',\n",
       " 'caught film azn cable sounded like would good film japanese green card say ever disliked asian film quite contrary incredible horror films time japanese korean huge fan john woo hong kong films adverse light hearted films like tampopo chung king express two favourites thought would like well would rather slit wrists drink blood watch laborious badly acted film ever br br think director steven okazaki must spiked water quaalude one film personality characters try act opposed mumbling line two performance came across forced incredibly fake honestly think anyone ever acted person sounded genuine brenda aoki find amazing promoted comedy laugh even surprising cbs morning news called refreshing breath comedy neither refreshing breath comedy ending predictable previous reviewer must idiot think things br br avoid film unless want see boring predictable plot line wooden acting actually think spike bensonhurst better acted film walked half way film',\n",
       " 'may remake autumn tale eleven years director mabel cheung claimed mabel employs rock music medium movie express personal attitude life love desire consequential frustration play significantly crucial roles rock music may best vehicle convey profound sentiment yet inappropriate utilize life underground rock musicians bitterly intense ordinary one director focuses depiction subtle affection ultimate vanity life rather mere rock music love father son lovers friends delicately touchingly delivered fine performance mabel attempt beautify rock musicians artists instead tries reproduce true life screen making huge efforts years working project gathering information beijing underground pubs br br daniel given probably best performance movies made far innate dispiritedness reticence fit blue mood film perfectly',\n",
       " 'super ex girlfriend turned pleasant surprise really expecting horrible movie would probably stupid predictable know movie many wonderful laughs fun plot anyone could get kick know cheesy movie uma anna cool steve great addition along great cast looked like much fun made movie really work br br jenny johnson scary best friend actual name typical average librarian looking woman matt average male asks expected asked g girl date super hero world finds jealous crazy girl really decides may good idea spend time apart jenny since fallen another girl hannah make life living hell mean let face chosen better girl break br br effect corny seriously move past quickly story cast made story really work loved uma movie step prime super ex girlfriend fun movie really take seriously cute romantic comedy think could get laugh anyone could br br',\n",
       " 'believe people looking plot film laural hardy lighten already two riot comic genius funny today years ago filthy word either mouth able keep audiences stitches comedy sophisticated stretch whoopee cushion make grin reason watch stuff guys simpler time people laughed stuff funny without plot guess takes simple mind enjoy stuff qualify two man comedy teams compute sophisticated fortunate',\n",
       " 'seen gong show tv series like movie much knowing series makes great movie br br give things make kind amusing help make obvious problems br br funny snapshot era made late early get lot funny cameos people seen show interesting see chuck host air tv personality get see lot bizarre people sorts weirdness like see tv show br br list bad things lot prominent br br gong show movie lot actual tv show clips gets tired movie length movie story line outside clip segments weak basically made one plot point chuck actually halfway decent actor rest actors typical way top flatness br br good movie watch hour half want watch watch minutes time bad even good either',\n",
       " 'always huge fan homicide life street heard reunion movie coming wait br br let say disappointed one powerful hours television ever seen great see everyone back biggest pleasure andre braugher back relationship pembleton bayliss always strongest part together great show',\n",
       " 'greg davis bryan daly take crazed statements terrorists add commentary bunch uber right reactionaries ascribe extreme positions fundamentalist moslems planet everyone calls moslem presents theology islam maybe next film involve interviewing fred phelps congregation westboro baptist church adding commentary militant atheist scholars call film world needs know christianity ultimately film suffers poor production values lack attention basic standards journalism waste time money turn radio listen rush limbaugh couple days free get message level intellectual analysis',\n",
       " 'half hearted attempt bring elvis presley modern day despite sexy little shower scene pseudo playboy magazine subplot presley surrounded old coy winking clichés woman picks e p beach proceeds take life seem care dick sargent grueling another sidebar porter rudy vallee try hard elvis two bosses moonlighting see songs quite good especially almost love want see looser hipper updated elvis sex comedy look elsewhere elvis fatal attraction get bed together actually wooden board get real',\n",
       " 'want fun romp loads subtle humor enjoy flick br br understand anyone enjoy one take vehicle dennis hopper mess head make laugh shakespeare well done ericka eleniak absolutely beautiful holds one better episode baywatch shows knack subtle humor bad many opportunities expand br br tom berenger fits role real navy perfectly william mcnamara solid job hustler br br throw walk hopper middle chase cherry sundae got movie kept attention kept laughing bought one soon available br br brain candy',\n",
       " 'really wanted able give film long thought favorite four modern live action batman films date maybe still yet watch schumacher films also starting become concerned whether somehow subconsciously contrarian see always liked schumacher films far remember either conventional wisdom two tim burton directed films far superior serious problems first burton batman time around ended giving apologize might help feel batman returns many small direction plot script problems scattered throughout justify br br burton almost trumps problems sheer force style even though lot small flaws batman returns still great film especially burton fan batman returns much common nightmare christmas edward scissorhands anything else batman universe br br film begins strongly cobblepots baby see dismay people walk birthing room horror faces ready vomit later baby small cage finally take evening stroll dump gotham city river baby ends becoming batman villain penguin danny devito br br meanwhile max shreck christopher walken film evil capitalist comparable grissom jack palance batman planning duping gotham city various ways see emotionally abusing secretary timid selina kyle michelle pfeiffer kyle discovers one nefarious plots grissom tries get rid rescued cats becoming catwoman br br going penguin long rumored exist thought dangerous begins scheme presented public good guy despite less benevolent ulterior motives br br watching burton batman films time remember little films batman michael keaton almost burton feel character interesting enough focus focus much villains especially penguin batman appear often especially beginning film surprisingly often watching watching penguin br br although viewers necessarily count flaw say even like know batman follow story villains stories interesting origin story two major batman villains batman returns already complex terms plot br br however character problems count flaw penguin cadre circus performers bidding even though frequently screen never get learn anything burton core characters intriguing tod browning freaks available actors interesting vincent schiavelli space use br br matter hardly space explore catwoman film plays catwoman may developed featured many scenes penguin cut film would hours long bulk catwoman scenes excised course barely leaves room batman burton batman turn dark public eye film unusually never bothers resolve far know end gothamites still think batman murdering lunatic interesting development unfortunately ended dropped film next br br script although minor problems including non sequiturs bizarre decisions terms logic made characters clear burton writers sam hamm daniel waters exactly trying tell traditional story lot dialogue pun oriented often fairly subtle complex course sometimes blatant transparent helps look batman returns poetic film believe intention also carries general plot directorial decisions plenty odd character actions including minor characters done service general mood style style works well br br dark easiest way sum batman returns word whether positive negative depends disposition anyone knows knows love dark burton style largely transcends flaws plot script many ways batman returns like insane campy horror film beautifully eerie production design like batman burton still making many references films instead vertigo star wars well still slight star wars reference invokes films like nosferatu including max schreck name actor played dracula like character motel hell aforementioned freaks willy wonka chocolate factory surreal dark edge zombie films made explicit penguin final scene br br terms visuals general atmosphere includes general feel story characters stronger',\n",
       " 'main problem power features way may pointless characters subplots add absolutely nothing movie whatsoever gets boring awhile sitting around waiting scenes connect find something drives movie forward could probably pass character development either recycled earlier scenes movie simply flat uninteresting lumet never gives enough time let supporting cast blossom cut characters hackman wife concentrated harder others billings could great hard political thriller instead jumbled mess loses message sea bad writing acting fact amazed considering cast even gene hackman performance par denzel washington real actor note gere others done much better performances elsewhere br br sidney lumet needs go back fierce one man shows seventies e serpico stop trying recapture success angry men fail safe worked yet sidney likely never leave ensemble dramas altman br br br br',\n",
       " 'folks disney lot explain first foremost anyone thought lesser sitcom material would ever make even half decent motion picture kooky teleplay unique idea martians among us yet given sophisticated x files treatment quaint visions little green men long since dispelled likes e close encounters aliens br br charm property mainly due endearing relationship created late bill bixby tim ray walston unworldly visitor conceit martians antenna seemed dopey back seems positively idiotic yet christopher lloyd uncle martin sports metallic appendages early shot antenna sign tv station tim works supposed make us think martian last time saw tv rabbit ears eh br br disney trust quaint relationships crams flick youth wooing special effects include talking space suit named zoot yes read correctly uncle martin silver space suit speaks supposed real hilarious cut figure got stretch socks funnier zoot whenever action lags lags constantly computer graphics put play liven things tim played amiable jeff daniels anything save floudering mess zesty christine ebersole brings comic zeal neighbor lady role even ray walston dragged painfully procedings avail alien visitor dead arrival br br constant talk sitcoms turning screen makes hope dream jeannie movie feature talking harem outfit pray samantha cat movie bewitched lines live fear love lucy movie proudly feature cg conga drum named bongo br br paging michael eisner mickey mouse take leader',\n",
       " 'friend told john fante last summer got conversation charles bukowski know fante favorite writer bukowski author similar edge humor except one generation earlier ask dust first fante book read remains one favorite novels novel brilliant piece writing sad frightened young writer posing outside world overconfident masterfully talented author idea write real world experiences none novel protagonist virgin idea win graces women desperately wants write magazines story bizarre relationship camilla settles first sexual experience wounded admirer eventually left nothing story failed attempts love biting real touching hollywood ending film adaptation stays true book meanders cinematic trap love persevering racism sickness death heart story lies fact bandini jerk camilla f ing crazy love never never would real thing matter much either wanted find movie tore real meaning story replaced schlock believe man wrote chinatown could read book make movie got wrong']"
      ]
     },
     "execution_count": 55,
     "metadata": {},
     "output_type": "execute_result"
    }
   ],
   "source": [
    "def full_remove(x, removal_list):\n",
    "    for w in removal_list:\n",
    "        x = x.replace(w, ' ')\n",
    "    return x\n",
    "\n",
    "## Remove digits\n",
    "digits = [str(x) for x in range(10)]\n",
    "remove_digits = [full_remove(x, digits) for x in content]\n",
    "\n",
    "## Remove punctuation\n",
    "remove_punc = [full_remove(x, list(string.punctuation)) for x in remove_digits]\n",
    "\n",
    "## Make everything lower-case and remove any white space\n",
    "sents_lower = [x.lower() for x in remove_punc]\n",
    "sents_lower = [x.strip() for x in sents_lower]\n",
    "\n",
    "## Remove stop words\n",
    "from nltk.corpus import stopwords\n",
    "stops = stopwords.words(\"English\")\n",
    "def removeStopWords(stopWords, txt):\n",
    "    newtxt = ' '.join([word for word in txt.split() if word not in stopWords])\n",
    "    return newtxt\n",
    "content1 = [removeStopWords(stops,x) for x in sents_lower]\n",
    "content1[:20]"
   ]
  },
  {
   "cell_type": "markdown",
   "id": "b76465a0",
   "metadata": {},
   "source": [
    "## stops we defined instead"
   ]
  },
  {
   "cell_type": "code",
   "execution_count": 8,
   "id": "de5a9887",
   "metadata": {},
   "outputs": [
    {
     "data": {
      "text/plain": [
       "['just got our la campus love energy in this place',\n",
       " 'tamed that weave into ponytail oh yes dayss m so happy',\n",
       " 'hartluck lol ur too cute thats sure pink is hottest girl ever u lucky lucky man lol well shes pretty lucky have u as well',\n",
       " 'tomorrow new week daays for concert teq',\n",
       " 'seandblogonaut you just saved your twitter soul',\n",
       " 'david eddings is dead hope died believing d gotten that one story finally told',\n",
       " 'mileycyrus voted for you mileyyy',\n",
       " 'm going bed m beat out after today had crazy water balloon fight best last day school ever going miss everyone',\n",
       " 'bayleigh and haz pizza and breadsticks',\n",
       " 'http twitpic com yb u came across this picture this morning how miss production',\n",
       " 'know m really sad miss him so much hope comes down again soon',\n",
       " 'elizapatricia time for my bed too am here and just finished hr shift',\n",
       " 'ibosmiley yep got out market last fall whew',\n",
       " 'ahhhhh andrea bocelli con te partiro reminds me my friend who died â\\x99« http blip fm s aj',\n",
       " 'sweetwhirl you too honey thanks although my day is like any other day except for flowers',\n",
       " 'davinauea sorry remind you',\n",
       " 'â\\x99« all wanna do now is share my constellation brighten my world everyday hugs â\\x99« http blip fm oxu',\n",
       " 'tjthyne good luck n have fun',\n",
       " 'time start studying',\n",
       " 'uniquegirl have sty and hurts']"
      ]
     },
     "execution_count": 8,
     "metadata": {},
     "output_type": "execute_result"
    }
   ],
   "source": [
    "stop_set = ['the', 'a', 'an', 'i', 'he', 'she', 'they', 'to', 'of', 'it', 'from']\n",
    "content2 = [removeStopWords(stop_set,x) for x in sents_lower]\n",
    "content2[:20]"
   ]
  },
  {
   "cell_type": "markdown",
   "id": "281d13fa",
   "metadata": {},
   "source": [
    "## stemming"
   ]
  },
  {
   "cell_type": "code",
   "execution_count": 9,
   "id": "9e417cfc",
   "metadata": {},
   "outputs": [
    {
     "data": {
      "text/plain": [
       "['just got our la campu love energi in thi place',\n",
       " 'tame that weav into ponytail oh ye dayss m so happi',\n",
       " 'hartluck lol ur too cute that sure pink is hottest girl ever u lucki lucki man lol well she pretti lucki have u as well',\n",
       " 'tomorrow new week daay for concert teq',\n",
       " 'seandblogonaut you just save your twitter soul',\n",
       " 'david ed is dead hope die believ d gotten that one stori final told',\n",
       " 'mileycyru vote for you mileyyy',\n",
       " 'm go bed m beat out after today had crazi water balloon fight best last day school ever go miss everyon',\n",
       " 'bayleigh and haz pizza and breadstick',\n",
       " 'http twitpic com yb u came across thi pictur thi morn how miss product']"
      ]
     },
     "execution_count": 9,
     "metadata": {},
     "output_type": "execute_result"
    }
   ],
   "source": [
    "import nltk\n",
    "def stemporter(words):\n",
    "    porter = nltk.PorterStemmer()\n",
    "    new_words = [porter.stem(w) for w in words]\n",
    "    return new_words\n",
    "    \n",
    "def stemlancaster(words):\n",
    "    porter = nltk.LancasterStemmer()\n",
    "    new_words = [porter.stem(w) for w in words]\n",
    "    return new_words    \n",
    "\n",
    "porter = [stemporter(x.split()) for x in content2]\n",
    "porter = [\" \".join(i) for i in porter]\n",
    "porter[0:10]"
   ]
  },
  {
   "cell_type": "markdown",
   "id": "78463000",
   "metadata": {},
   "source": [
    "## vectorizing"
   ]
  },
  {
   "cell_type": "code",
   "execution_count": 10,
   "id": "8e42eae6",
   "metadata": {},
   "outputs": [],
   "source": [
    "vectorizer = CountVectorizer(analyzer = \"word\", \n",
    "                             preprocessor = None, \n",
    "                             stop_words =  'english', \n",
    "                             max_features = 6000, ngram_range=(1,5))\n",
    "data_features = vectorizer.fit_transform(content2)\n",
    "tfidf_transformer = TfidfTransformer()\n",
    "data_features_tfidf = tfidf_transformer.fit_transform(data_features)\n",
    "data_mat = data_features_tfidf.toarray()\n",
    "\n",
    "np.random.seed(0)\n",
    "test_index = np.append(np.random.choice((np.where(y==-1))[0], 250, replace=False), np.random.choice((np.where(y==1))[0], 250, replace=False))\n",
    "train_index = list(set(range(len(labels))) - set(test_index))\n",
    "train_data = data_mat[train_index,]\n",
    "train_labels = y[train_index]\n",
    "test_data = data_mat[test_index,]\n",
    "test_labels = y[test_index]\n",
    "\n",
    "#Create polarity function and subjectivity function\n",
    "pol = lambda x: TextBlob(x).sentiment.polarity\n",
    "sub = lambda x: TextBlob(x).sentiment.subjectivity\n",
    "pol_list = [pol(x) for x in content2]\n",
    "sub_list = [sub(x) for x in content2]"
   ]
  },
  {
   "cell_type": "code",
   "execution_count": 11,
   "id": "f3cfd8bd",
   "metadata": {},
   "outputs": [
    {
     "name": "stdout",
     "output_type": "stream",
     "text": [
      "just got our la campus love energy in this place \t 0.5 0.6\n",
      "tamed that weave into ponytail oh yes dayss m so happy \t 0.8 1.0\n",
      "hartluck lol ur too cute thats sure pink is hottest girl ever u lucky lucky man lol well shes pretty lucky have u as well \t 0.41666666666666674 0.7876543209876543\n",
      "tomorrow new week daays for concert teq \t 0.13636363636363635 0.45454545454545453\n",
      "seandblogonaut you just saved your twitter soul \t 0.0 0.0\n",
      "david eddings is dead hope died believing d gotten that one story finally told \t -0.1 0.7\n",
      "mileycyrus voted for you mileyyy \t 0.0 0.0\n",
      "m going bed m beat out after today had crazy water balloon fight best last day school ever going miss everyone \t 0.13333333333333333 0.4222222222222222\n",
      "bayleigh and haz pizza and breadsticks \t 0.0 0.0\n",
      "http twitpic com yb u came across this picture this morning how miss production \t 0.0 0.0\n"
     ]
    }
   ],
   "source": [
    "for i in range(10):\n",
    "    print(content2[i], '\\t', pol_list[i], sub_list[i])"
   ]
  },
  {
   "cell_type": "code",
   "execution_count": 12,
   "id": "fb1a457f",
   "metadata": {},
   "outputs": [
    {
     "name": "stdout",
     "output_type": "stream",
     "text": [
      "Training error:  0.04377777777777778\n",
      "Test error:  0.332\n"
     ]
    }
   ],
   "source": [
    "## Fit logistic classifier on training data\n",
    "clf = SGDClassifier(loss=\"log\", penalty=\"none\")\n",
    "clf.fit(train_data, train_labels)\n",
    "## Pull out the parameters (w,b) of the logistic regression model\n",
    "w = clf.coef_[0,:]\n",
    "b = clf.intercept_\n",
    "## Get predictions on training and test data\n",
    "preds_train = clf.predict(train_data)\n",
    "preds_test = clf.predict(test_data)\n",
    "## Compute errors\n",
    "errs_train = np.sum((preds_train > 0.0) != (train_labels > 0.0))\n",
    "errs_test = np.sum((preds_test > 0.0) != (test_labels > 0.0))\n",
    "print(\"Training error: \", float(errs_train)/len(train_labels))\n",
    "print(\"Test error: \", float(errs_test)/len(test_labels))"
   ]
  },
  {
   "cell_type": "code",
   "execution_count": 13,
   "id": "dab07ba2",
   "metadata": {},
   "outputs": [
    {
     "name": "stdout",
     "output_type": "stream",
     "text": [
      "Highly negative words: \n",
      "['sad', 'sick', 'sucks', 'ugh', 'bummer', 'ergh', 'cold', 'jealous', 'hate', 'worst', 'forks', 'miss', 'fml', 'wont', 'awake', 'poor', 'gh', 'headache', 'aw', 'er', 'just wants', 'missing', 'lastfm', 'didn', 'mad', 'terrible', 'lmfao', 'feels like', 'housework', 'pool', 'ouch', 'surgery', 'aches', 'rude', 'jonasbrothers', 'upset', 'missed', 'near', 'means', 'feel', 'wednesday', 'unfortunately', 'human', 'everytime', 'revision', 'doing homework', 'download', 'wishing', 'pushing', 'isnt']\n",
      "Highly positive words: \n",
      "['love', 'new', 'supermarket', 'send', 'getting ready', 'know haha', 'hi', 'em', 'gettin', 'fireworks', 'smile', 'chicken', 'radio', 'agree', 'roomie', 'paris', 'ill', 'visual', 'uni', 'wee', 'flights', 'nom', 'hahah', 'yay', 'weee', 'ftw', 'straight', 'nah', 'wrote', 'deserved', 'bat', 'good time', 'wonderful', 'ben', 'enjoying', 'lady', 'cute', 'excited', 'just hours', 'beautiful', 'tee', 'fan', 'thanks', 'sweet', 'welcome', 'singing', 'congrats', 'ticket']\n"
     ]
    }
   ],
   "source": [
    "## Convert vocabulary into a list:\n",
    "vocab = np.array([z[0] for z in sorted(vectorizer.vocabulary_.items(), key=lambda x:x[1])])\n",
    "## Get indices of sorting w\n",
    "inds = np.argsort(w)\n",
    "## Words with large negative values\n",
    "neg_inds = inds[0:50]\n",
    "print(\"Highly negative words: \")\n",
    "# MB: fixed bug here\n",
    "print([x for x in list(vocab[neg_inds])])\n",
    "## Words with large positive values\n",
    "pos_inds = inds[-49:-1]\n",
    "print(\"Highly positive words: \")\n",
    "print([x for x in list(vocab[pos_inds])])"
   ]
  },
  {
   "cell_type": "code",
   "execution_count": 14,
   "id": "badb01b1",
   "metadata": {},
   "outputs": [
    {
     "name": "stdout",
     "output_type": "stream",
     "text": [
      "[-1]\n",
      "[-1]\n",
      "[1]\n",
      "[-1]\n"
     ]
    }
   ],
   "source": [
    "print(clf.predict(vectorizer.transform([\"It's a sad movie but very good\"])))\n",
    "print(clf.predict(vectorizer.transform([\"Waste of my time\"])))\n",
    "print(clf.predict(vectorizer.transform([\"It is not what like\"])))\n",
    "print(clf.predict(vectorizer.transform([\"It is not what I m looking for\"])))"
   ]
  },
  {
   "cell_type": "code",
   "execution_count": 15,
   "id": "09871006",
   "metadata": {},
   "outputs": [
    {
     "name": "stdout",
     "output_type": "stream",
     "text": [
      "Test error:  0.344\n"
     ]
    }
   ],
   "source": [
    "from sklearn.linear_model import SGDClassifier\n",
    "svm_clf = SGDClassifier(loss=\"hinge\", penalty='l2')\n",
    "svm_clf.fit(train_data, train_labels)\n",
    "svm_preds_test = svm_clf.predict(test_data)\n",
    "svm_errs_test = np.sum((svm_preds_test > 0.0) != (test_labels > 0.0))\n",
    "print(\"Test error: \", float(svm_errs_test)/len(test_labels))"
   ]
  },
  {
   "cell_type": "code",
   "execution_count": 16,
   "id": "54900f10",
   "metadata": {},
   "outputs": [
    {
     "name": "stdout",
     "output_type": "stream",
     "text": [
      "[-1]\n",
      "[-1]\n",
      "[1]\n",
      "[-1]\n"
     ]
    }
   ],
   "source": [
    "print(svm_clf.predict(vectorizer.transform([\"It's a sad movie but very good\"])))\n",
    "print(svm_clf.predict(vectorizer.transform([\"Waste of my time\"])))\n",
    "print(svm_clf.predict(vectorizer.transform([\"This is not what I like\"])))\n",
    "print(svm_clf.predict(vectorizer.transform([\"It is not what I am looking for\"])))"
   ]
  },
  {
   "cell_type": "code",
   "execution_count": 17,
   "id": "9538d272",
   "metadata": {},
   "outputs": [
    {
     "name": "stdout",
     "output_type": "stream",
     "text": [
      "Shape of data tensor: (5000, 200)\n"
     ]
    }
   ],
   "source": [
    "max_review_length = 200\n",
    "tokenizer = Tokenizer(num_words=10000,  #max no. of unique words to keep\n",
    "                      filters='!\"#$%&()*+,-./:;<=>?@[\\]^_`{|}~', \n",
    "                      lower=True #convert to lower case\n",
    "                     )\n",
    "tokenizer.fit_on_texts(content2)\n",
    "\n",
    "X = tokenizer.texts_to_sequences(content2)\n",
    "X = pad_sequences(X, maxlen= max_review_length)\n",
    "print('Shape of data tensor:', X.shape)\n",
    "\n",
    "Y=pd.get_dummies(y).values\n",
    "\n",
    "np.random.seed(0)\n",
    "test_inds = np.append(np.random.choice((np.where(y==-1))[0], 250, replace=False), np.random.choice((np.where(y==1))[0], 250, replace=False))\n",
    "train_inds = list(set(range(len(labels))) - set(test_inds))\n",
    "train_data = X[train_inds,]\n",
    "train_labels = Y[train_inds]\n",
    "test_data = X[test_inds,]\n",
    "test_labels = Y[test_inds]"
   ]
  },
  {
   "cell_type": "code",
   "execution_count": 18,
   "id": "586a9fef",
   "metadata": {},
   "outputs": [
    {
     "name": "stdout",
     "output_type": "stream",
     "text": [
      "Model: \"sequential\"\n",
      "_________________________________________________________________\n",
      " Layer (type)                Output Shape              Param #   \n",
      "=================================================================\n",
      " embedding (Embedding)       (None, 200, 200)          2000000   \n",
      "                                                                 \n",
      " spatial_dropout1d (SpatialD  (None, 200, 200)         0         \n",
      " ropout1D)                                                       \n",
      "                                                                 \n",
      " lstm (LSTM)                 (None, 200, 250)          451000    \n",
      "                                                                 \n",
      " lstm_1 (LSTM)               (None, 100)               140400    \n",
      "                                                                 \n",
      " dense (Dense)               (None, 2)                 202       \n",
      "                                                                 \n",
      "=================================================================\n",
      "Total params: 2,591,602\n",
      "Trainable params: 2,591,602\n",
      "Non-trainable params: 0\n",
      "_________________________________________________________________\n",
      "None\n"
     ]
    }
   ],
   "source": [
    "EMBEDDING_DIM = 200\n",
    "model = Sequential()\n",
    "model.add(Embedding(10000, EMBEDDING_DIM, input_length=X.shape[1]))\n",
    "model.add(SpatialDropout1D(0.2))\n",
    "model.add(LSTM(250, dropout=0.2,return_sequences=True))\n",
    "model.add(LSTM(100, dropout=0.2, recurrent_dropout=0.2))\n",
    "model.add(Dense(2, activation='softmax'))\n",
    "model.compile(loss='categorical_crossentropy', optimizer='adam', metrics=['accuracy'])\n",
    "print(model.summary())"
   ]
  },
  {
   "cell_type": "code",
   "execution_count": 19,
   "id": "46a3d566",
   "metadata": {},
   "outputs": [
    {
     "name": "stdout",
     "output_type": "stream",
     "text": [
      "Epoch 1/2\n",
      "102/102 [==============================] - 117s 1s/step - loss: 0.6387 - accuracy: 0.6257 - val_loss: 0.5661 - val_accuracy: 0.7000\n",
      "Epoch 2/2\n",
      "102/102 [==============================] - 113s 1s/step - loss: 0.3953 - accuracy: 0.8286 - val_loss: 0.5862 - val_accuracy: 0.6978\n"
     ]
    },
    {
     "data": {
      "text/plain": [
       "<keras.callbacks.History at 0x1b954687d60>"
      ]
     },
     "execution_count": 19,
     "metadata": {},
     "output_type": "execute_result"
    }
   ],
   "source": [
    "epochs = 2\n",
    "batch_size = 40\n",
    "model.fit(train_data, train_labels, \n",
    "          epochs=epochs, \n",
    "          batch_size=batch_size,\n",
    "          validation_split=0.1)"
   ]
  },
  {
   "cell_type": "code",
   "execution_count": 20,
   "id": "ff243fcb",
   "metadata": {},
   "outputs": [
    {
     "name": "stdout",
     "output_type": "stream",
     "text": [
      "13/13 - 3s - loss: 0.5815 - accuracy: 0.6880 - 3s/epoch - 229ms/step\n",
      "Loss: 0.581498384475708\n",
      "Validation accuracy: 0.6880000233650208\n"
     ]
    }
   ],
   "source": [
    "loss, acc = model.evaluate(test_data, test_labels, verbose=2,\n",
    "                            batch_size=batch_size)\n",
    "print(f\"Loss: {loss}\")\n",
    "print(f\"Validation accuracy: {acc}\")"
   ]
  },
  {
   "cell_type": "code",
   "execution_count": 21,
   "id": "fb60558e",
   "metadata": {},
   "outputs": [
    {
     "name": "stdout",
     "output_type": "stream",
     "text": [
      "1/1 [==============================] - 1s 924ms/step\n",
      "Probability distribution:  [[0.6206971  0.37930298]]\n",
      "Is this a Positive or Negative message? 'test'\n",
      "Negative\n"
     ]
    }
   ],
   "source": [
    "outcome_labels = ['Negative', 'Positive']\n",
    "new = [\"test\"]\n",
    " \n",
    "def predict_sentiment(text):\n",
    "    seq = tokenizer.texts_to_sequences(text)\n",
    "    padded = pad_sequences(seq, maxlen=max_review_length)\n",
    "    pred = model.predict(padded)\n",
    "    print(\"Probability distribution: \", pred)\n",
    "    print(f\"Is this a Positive or Negative message? '{new[0]}'\")\n",
    "    print(outcome_labels[np.argmax(pred)])\n",
    "\n",
    "predict_sentiment(new)"
   ]
  },
  {
   "cell_type": "code",
   "execution_count": 38,
   "id": "3e2f0142",
   "metadata": {},
   "outputs": [
    {
     "name": "stdout",
     "output_type": "stream",
     "text": [
      "1/1 [==============================] - 0s 45ms/step\n",
      "Probability distribution:  [[0.4545355  0.54546446]]\n",
      "Is this a Positive or Negative message? 'dr bixler'\n",
      "Positive\n"
     ]
    }
   ],
   "source": [
    "predict_sentiment(['dr bixler'])"
   ]
  },
  {
   "cell_type": "code",
   "execution_count": null,
   "id": "82efb81c",
   "metadata": {},
   "outputs": [],
   "source": []
  },
  {
   "cell_type": "code",
   "execution_count": null,
   "id": "952a32bd",
   "metadata": {},
   "outputs": [],
   "source": []
  },
  {
   "cell_type": "code",
   "execution_count": null,
   "id": "74422020",
   "metadata": {},
   "outputs": [],
   "source": []
  },
  {
   "cell_type": "code",
   "execution_count": null,
   "id": "ff6558f2",
   "metadata": {},
   "outputs": [],
   "source": []
  },
  {
   "cell_type": "code",
   "execution_count": null,
   "id": "f7801038",
   "metadata": {},
   "outputs": [],
   "source": []
  }
 ],
 "metadata": {
  "kernelspec": {
   "display_name": "Python 3 (ipykernel)",
   "language": "python",
   "name": "python3"
  },
  "language_info": {
   "codemirror_mode": {
    "name": "ipython",
    "version": 3
   },
   "file_extension": ".py",
   "mimetype": "text/x-python",
   "name": "python",
   "nbconvert_exporter": "python",
   "pygments_lexer": "ipython3",
   "version": "3.9.12"
  }
 },
 "nbformat": 4,
 "nbformat_minor": 5
}
